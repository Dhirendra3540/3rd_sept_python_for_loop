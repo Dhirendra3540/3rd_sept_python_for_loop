{
 "cells": [
  {
   "cell_type": "code",
   "execution_count": 1,
   "id": "ef026f1a-3ce2-4fd0-b3b6-b49b35c5919c",
   "metadata": {},
   "outputs": [
    {
     "name": "stdout",
     "output_type": "stream",
     "text": [
      "1\n",
      "2\n",
      "3\n",
      "4\n",
      "5\n",
      "6\n",
      "7\n",
      "8\n",
      "9\n",
      "10\n"
     ]
    }
   ],
   "source": [
    "#Q1\n",
    "for i in range(1,11) :\n",
    "    print(i)"
   ]
  },
  {
   "cell_type": "code",
   "execution_count": 2,
   "id": "73876931-da61-4f7d-9825-eb43a4442486",
   "metadata": {},
   "outputs": [
    {
     "name": "stdout",
     "output_type": "stream",
     "text": [
      "252\n"
     ]
    }
   ],
   "source": [
    "#Q2\n",
    "list1=[25,35,8,36,96,52]\n",
    "sum=0\n",
    "for i in list1:\n",
    "    sum=sum+i\n",
    "print(sum)\n",
    "    "
   ]
  },
  {
   "cell_type": "code",
   "execution_count": 3,
   "id": "de63d80d-f45d-4b6b-83a1-dd2d19fa08c1",
   "metadata": {},
   "outputs": [
    {
     "name": "stdout",
     "output_type": "stream",
     "text": [
      "l\n",
      "l\n",
      "i\n",
      "k\n",
      "s\n",
      "w\n",
      "p\n"
     ]
    }
   ],
   "source": [
    "#Q3\n",
    "str1='pwskill'\n",
    "for char in str1[::-1]:\n",
    "    print(char)"
   ]
  },
  {
   "cell_type": "code",
   "execution_count": 8,
   "id": "03c81f79-56f7-46e8-821c-7418ced4068d",
   "metadata": {
    "tags": []
   },
   "outputs": [
    {
     "name": "stdin",
     "output_type": "stream",
     "text": [
      "Enter an integer value 5\n"
     ]
    },
    {
     "name": "stdout",
     "output_type": "stream",
     "text": [
      "Factorial of given number is 120\n"
     ]
    }
   ],
   "source": [
    "#Q4\n",
    "n= int(input('Enter an integer value'))\n",
    "fact=1\n",
    "for i in range(1,n+1):\n",
    "    fact=fact*i\n",
    "    \n",
    "print('Factorial of given number is', fact)\n",
    "    "
   ]
  },
  {
   "cell_type": "code",
   "execution_count": 9,
   "id": "7c5eefe1-0d84-4e9f-b1b1-49674bc9515b",
   "metadata": {
    "tags": []
   },
   "outputs": [
    {
     "name": "stdin",
     "output_type": "stream",
     "text": [
      "Enter an integer value 5\n"
     ]
    },
    {
     "name": "stdout",
     "output_type": "stream",
     "text": [
      "5\n",
      "10\n",
      "15\n",
      "20\n",
      "25\n",
      "30\n",
      "35\n",
      "40\n",
      "45\n",
      "50\n"
     ]
    }
   ],
   "source": [
    "#Q5\n",
    "n=int(input('Enter an integer value'))\n",
    "for i in range(1,11):\n",
    "    print(n*i)\n",
    "    "
   ]
  },
  {
   "cell_type": "code",
   "execution_count": 10,
   "id": "bc03666b-b6f9-4749-808c-057b7b759a4e",
   "metadata": {},
   "outputs": [
    {
     "name": "stdout",
     "output_type": "stream",
     "text": [
      "total even number is: 4\n",
      "total odd number is: 5\n"
     ]
    }
   ],
   "source": [
    "#Q6\n",
    "list2=[1,2,3,4,5,6,7,8,9]\n",
    "count_odd=0\n",
    "count_even=0\n",
    "for i in list2:\n",
    "    if(i%2==0):\n",
    "        count_even+=1\n",
    "    else:\n",
    "        count_odd+=1\n",
    "print(\"total even number is:\",count_even)\n",
    "print('total odd number is:', count_odd)"
   ]
  },
  {
   "cell_type": "code",
   "execution_count": 11,
   "id": "6614054d-6e06-4a63-a801-7c8f4947dfe8",
   "metadata": {},
   "outputs": [
    {
     "name": "stdout",
     "output_type": "stream",
     "text": [
      "1\n",
      "4\n",
      "9\n",
      "16\n",
      "25\n"
     ]
    }
   ],
   "source": [
    "#Q7\n",
    "for i in range(1,6):\n",
    "    print(i*i)"
   ]
  },
  {
   "cell_type": "code",
   "execution_count": 14,
   "id": "57a90f83-c18d-46d7-8609-24fa840f72d0",
   "metadata": {},
   "outputs": [
    {
     "name": "stdout",
     "output_type": "stream",
     "text": [
      "length of a string is 7\n"
     ]
    }
   ],
   "source": [
    "#Q8\n",
    "str1='pwskill'\n",
    "count=0\n",
    "for i in str1:\n",
    "    count+=1\n",
    "print('length of a string is', count)"
   ]
  },
  {
   "cell_type": "code",
   "execution_count": 15,
   "id": "f0a56fc9-dae6-400c-af50-c07f2a36032d",
   "metadata": {},
   "outputs": [
    {
     "name": "stdout",
     "output_type": "stream",
     "text": [
      "average of number is: 5.0\n"
     ]
    }
   ],
   "source": [
    "#Q9\n",
    "list1=[1,2,3,4,5,6,7,8,9]\n",
    "n=0\n",
    "sum=0\n",
    "for i in list1:\n",
    "    sum=sum+i\n",
    "    n+=1\n",
    "    \n",
    "avg=sum/n\n",
    "print('average of number is:',avg)"
   ]
  },
  {
   "cell_type": "code",
   "execution_count": 24,
   "id": "25fe2b29-76aa-482f-9df0-706d34a8106c",
   "metadata": {},
   "outputs": [
    {
     "name": "stdin",
     "output_type": "stream",
     "text": [
      "enter an integer value 9\n"
     ]
    },
    {
     "name": "stdout",
     "output_type": "stream",
     "text": [
      "1\n",
      "2\n",
      "3\n",
      "5\n",
      "8\n",
      "13\n",
      "21\n",
      "34\n",
      "55\n"
     ]
    }
   ],
   "source": [
    "#Q10\n",
    "n=int(input('enter an integer value'))\n",
    "f1=0\n",
    "f2=1\n",
    "fib=0\n",
    "for i in range(1,n+1):\n",
    "    fib=f1+f2\n",
    "    print(fib)\n",
    "    f1=f2\n",
    "    f2=fib\n",
    "    \n",
    "    "
   ]
  },
  {
   "cell_type": "code",
   "execution_count": 6,
   "id": "0824ff45-d092-4570-bbf9-504f1443a2b8",
   "metadata": {},
   "outputs": [
    {
     "name": "stdout",
     "output_type": "stream",
     "text": [
      "list contains duplicates\n"
     ]
    }
   ],
   "source": [
    "#Q11\n",
    "list1=[1,5,6,'pwskill','skill','pw',6]\n",
    "temp=0\n",
    "for i in list1:\n",
    "    if list1.count(i)>1:\n",
    "        print(\"list contains duplicates\")\n",
    "        temp=1\n",
    "        break\n",
    "    else:\n",
    "        temp=0\n",
    "if temp==0:\n",
    "    print(\"list does not contain any duplicate\")"
   ]
  },
  {
   "cell_type": "code",
   "execution_count": 7,
   "id": "bec8432b-513a-44a4-8590-2c2b602be158",
   "metadata": {},
   "outputs": [
    {
     "name": "stdin",
     "output_type": "stream",
     "text": [
      "enter an integer 15\n"
     ]
    },
    {
     "name": "stdout",
     "output_type": "stream",
     "text": [
      "1\n",
      "2\n",
      "3\n",
      "5\n",
      "7\n",
      "11\n",
      "13\n"
     ]
    }
   ],
   "source": [
    "#Q12\n",
    "n=int(input('enter an integer'))\n",
    "temp=0\n",
    "for i in range(1,n+1):\n",
    "    temp=0\n",
    "    for j in range(2,i+1):\n",
    "        if(i%j==0 and i!=j):\n",
    "            temp=1\n",
    "            continue\n",
    "       \n",
    "            \n",
    "    if(temp==0):\n",
    "        print(i)"
   ]
  },
  {
   "cell_type": "code",
   "execution_count": 9,
   "id": "c9c8794b-9ca0-4174-960b-e099698a624f",
   "metadata": {},
   "outputs": [
    {
     "name": "stdout",
     "output_type": "stream",
     "text": [
      "6\n"
     ]
    }
   ],
   "source": [
    "#Q13\n",
    "v=['a','e','i','o','u']\n",
    "str1='I love my India'\n",
    "count=0\n",
    "for i in v:\n",
    "    count+=str1.lower().count(i)\n",
    "print(count)\n",
    "    "
   ]
  },
  {
   "cell_type": "code",
   "execution_count": 10,
   "id": "d77bb65a-61f7-492f-9cee-dc1240b84bac",
   "metadata": {},
   "outputs": [
    {
     "name": "stdout",
     "output_type": "stream",
     "text": [
      "List before deletion [1, 5, 7, '@', 'pw', '#', 'pwskill', 'data', '@', 'science', '@']\n",
      "List after deletion [1, 5, 7, 'pw', '#', 'pwskill', 'data', 'science']\n"
     ]
    }
   ],
   "source": [
    "#Q15\n",
    "\n",
    "list1=[1,5,7,'@','pw','#','pwskill','data','@','science','@']\n",
    "s_element='@'\n",
    "print('List before deletion', list1)\n",
    "for i in list1:\n",
    "    if i==s_element:\n",
    "        list1.remove(i)\n",
    "\n",
    "print('List after deletion',list1)"
   ]
  },
  {
   "cell_type": "code",
   "execution_count": 19,
   "id": "7b31786a-5f86-489b-9ec6-687ff89873ca",
   "metadata": {},
   "outputs": [
    {
     "name": "stdout",
     "output_type": "stream",
     "text": [
      "1\n",
      "2\n",
      "3\n",
      "4\n",
      "5\n",
      "6\n",
      "7\n",
      "8\n",
      "9\n",
      "10\n",
      "2\n",
      "4\n",
      "6\n",
      "8\n",
      "10\n",
      "12\n",
      "14\n",
      "16\n",
      "18\n",
      "20\n",
      "3\n",
      "6\n",
      "9\n",
      "12\n",
      "15\n",
      "18\n",
      "21\n",
      "24\n",
      "27\n",
      "30\n",
      "4\n",
      "8\n",
      "12\n",
      "16\n",
      "20\n",
      "24\n",
      "28\n",
      "32\n",
      "36\n",
      "40\n",
      "5\n",
      "10\n",
      "15\n",
      "20\n",
      "25\n",
      "30\n",
      "35\n",
      "40\n",
      "45\n",
      "50\n"
     ]
    }
   ],
   "source": [
    "#Q16\n",
    "\n",
    "for i in range(1,6):\n",
    "    \n",
    "    for j in range(1,11):\n",
    "        \n",
    "        print(i*j)\n",
    "        \n"
   ]
  },
  {
   "cell_type": "code",
   "execution_count": 21,
   "id": "dd519b27-1a21-4377-9c23-647aea1e79ef",
   "metadata": {},
   "outputs": [
    {
     "name": "stdout",
     "output_type": "stream",
     "text": [
      "98.5 F in Celcius is 36.94\n",
      "130 F in Celcius is 54.44\n",
      "43 F in Celcius is 6.11\n",
      "32 F in Celcius is 0.0\n"
     ]
    }
   ],
   "source": [
    "#Q17\n",
    "temp_list_f=[98.5,130,43,32]\n",
    "\n",
    "for i in temp_list_f:\n",
    "    temp=i\n",
    "    temp=temp-32\n",
    "    temp=round((temp*5)/9,2)\n",
    "    print(i,\"F in Celcius is\", temp)"
   ]
  },
  {
   "cell_type": "code",
   "execution_count": 22,
   "id": "aafc0adf-a97d-4fbb-88e3-22673cd331d9",
   "metadata": {},
   "outputs": [
    {
     "name": "stdout",
     "output_type": "stream",
     "text": [
      "data\n",
      "5\n",
      "6\n"
     ]
    }
   ],
   "source": [
    "#Q18\n",
    "list1=[1,5,6,7,'pw','data','science']\n",
    "list2=[2,'pwskil','data',5,6]\n",
    "\n",
    "for i in list2:\n",
    "    if i in list1:\n",
    "        print(i)\n",
    "        "
   ]
  },
  {
   "cell_type": "code",
   "execution_count": 24,
   "id": "b5b05fa1-6235-45df-bc5f-bc700901ff5f",
   "metadata": {},
   "outputs": [
    {
     "name": "stdout",
     "output_type": "stream",
     "text": [
      "*\n",
      "**\n",
      "***\n",
      "****\n",
      "*****\n",
      "******\n"
     ]
    }
   ],
   "source": [
    "#Q19\n",
    "for i in range(1,7):\n",
    "    print('*'*i)"
   ]
  },
  {
   "cell_type": "code",
   "execution_count": 26,
   "id": "19095260-346c-4b29-a45a-e89ee04e692d",
   "metadata": {},
   "outputs": [
    {
     "name": "stdout",
     "output_type": "stream",
     "text": [
      "5\n"
     ]
    }
   ],
   "source": [
    "#Q20\n",
    "num1=15\n",
    "num2=40\n",
    "small=0\n",
    "gcd=1\n",
    "if(num1>num2):\n",
    "    small=num2\n",
    "else:\n",
    "    small=num1\n",
    "for i in range(1,small+1):\n",
    "    if(num1%i==0 and num2%i==0):\n",
    "        gcd=i\n",
    "       \n",
    "print(gcd)\n"
   ]
  },
  {
   "cell_type": "code",
   "execution_count": 6,
   "id": "a5457122-ee60-4c65-b2b7-a147516c4e0c",
   "metadata": {},
   "outputs": [
    {
     "data": {
      "text/plain": [
       "[9, 23, 7, 18, 21, 22]"
      ]
     },
     "execution_count": 6,
     "metadata": {},
     "output_type": "execute_result"
    }
   ],
   "source": [
    "#Q21\n",
    "\n",
    "list1=[1233,4568,25,693,786,985]\n",
    "def add_digit(n):\n",
    "    sum1=0\n",
    "    while(n>0):\n",
    "        r=n%10\n",
    "        sum1=sum1+r\n",
    "        n=n//10\n",
    "    return sum1\n",
    "        \n",
    "list2=[add_digit(i) for i in list1 ]\n",
    "list2\n"
   ]
  },
  {
   "cell_type": "code",
   "execution_count": 7,
   "id": "5e221199-c357-4242-a03b-452429b4f724",
   "metadata": {},
   "outputs": [
    {
     "data": {
      "text/plain": [
       "['@', '@', '@']"
      ]
     },
     "execution_count": 7,
     "metadata": {},
     "output_type": "execute_result"
    }
   ],
   "source": [
    "#Q23\n",
    "list1=[\"pw\",'@',\"PWskill\",123,'@','Data','@']\n",
    "\n",
    "list2=[i for i in list1 if i=='@']\n",
    "list2"
   ]
  },
  {
   "cell_type": "code",
   "execution_count": 10,
   "id": "e091bd37-cbca-45c0-a9b1-20ada4f4564b",
   "metadata": {},
   "outputs": [
    {
     "name": "stdin",
     "output_type": "stream",
     "text": [
      "Enter an integer more than 10 to find palindromic numbers 96\n"
     ]
    },
    {
     "data": {
      "text/plain": [
       "[11, 22, 33, 44, 55, 66, 77, 88]"
      ]
     },
     "execution_count": 10,
     "metadata": {},
     "output_type": "execute_result"
    }
   ],
   "source": [
    "#Q24\n",
    "n=int(input('Enter an integer more than 10 to find palindromic numbers'))\n",
    "list1=[i for i in range(10,n+1) if str(i)==str(i)[::-1]]\n",
    "list1"
   ]
  },
  {
   "cell_type": "code",
   "execution_count": 11,
   "id": "e7d91201-a4b9-42fe-b68b-89718500f370",
   "metadata": {},
   "outputs": [
    {
     "data": {
      "text/plain": [
       "[123, 'pw', 'skill', 'data', 7, 1, 2, 'hi']"
      ]
     },
     "execution_count": 11,
     "metadata": {},
     "output_type": "execute_result"
    }
   ],
   "source": [
    "#Q25\n",
    "list1=[7,1,2,'hi',[123],['pw','skill','data']]\n",
    "list2=[i for k in list1 if type(k)==list for i in k ] + [j for j in list1 if type(j)!=list]\n",
    "list2\n"
   ]
  },
  {
   "cell_type": "code",
   "execution_count": 12,
   "id": "7490545f-d0bf-4280-a17d-ff6b60d78c3e",
   "metadata": {},
   "outputs": [
    {
     "name": "stdout",
     "output_type": "stream",
     "text": [
      "25\n",
      "20\n"
     ]
    }
   ],
   "source": [
    "#Q26\n",
    "list1=[1,2,3,4,5,6,7,8,9]\n",
    "\n",
    "s_ev=sum([i for i in list1 if i%2==0])\n",
    "\n",
    "\n",
    "s_odd=sum([j for j in list1 if j%2!=0])\n",
    "print(s_odd)\n",
    "print(s_ev)"
   ]
  },
  {
   "cell_type": "code",
   "execution_count": 13,
   "id": "263423ac-2a51-4ea3-933f-fd1d96e53077",
   "metadata": {},
   "outputs": [
    {
     "name": "stdout",
     "output_type": "stream",
     "text": [
      "[1, 9, 25, 49, 81]\n"
     ]
    }
   ],
   "source": [
    "#Q27\n",
    "\n",
    "odd_square=[i**2 for i in range(1,10) if i%2!=0]\n",
    "print(odd_square)"
   ]
  },
  {
   "cell_type": "code",
   "execution_count": 15,
   "id": "66811961-33cd-4a53-96b4-b84009a34e23",
   "metadata": {},
   "outputs": [
    {
     "data": {
      "text/plain": [
       "['i', 'a', 'a', 'i', 'e', 'e']"
      ]
     },
     "execution_count": 15,
     "metadata": {},
     "output_type": "execute_result"
    }
   ],
   "source": [
    "#Q29\n",
    "\n",
    "str1=\"pwskill data science\"\n",
    "vowels_list=['a','e','i','o','u']\n",
    "vowels=[i for i in str1 if i.lower() in vowels_list]\n",
    "vowels"
   ]
  },
  {
   "cell_type": "code",
   "execution_count": 16,
   "id": "ccbd997e-c74a-4156-b790-7966001000a0",
   "metadata": {},
   "outputs": [
    {
     "data": {
      "text/plain": [
       "['8', '9', '8', '6', '2', '6', '8', '6', '5', '6', '3', '4']"
      ]
     },
     "execution_count": 16,
     "metadata": {},
     "output_type": "execute_result"
    }
   ],
   "source": [
    "#Q30\n",
    "lst=['@p89w','sk8il6l26','86dat56a','scien34ce']\n",
    "\n",
    "[i for k in lst for i in k if i.isdigit() ]\n"
   ]
  },
  {
   "cell_type": "code",
   "execution_count": null,
   "id": "64e7770b-b62b-46bc-b83b-7e8ecadca796",
   "metadata": {},
   "outputs": [],
   "source": []
  }
 ],
 "metadata": {
  "kernelspec": {
   "display_name": "Python 3 (ipykernel)",
   "language": "python",
   "name": "python3"
  },
  "language_info": {
   "codemirror_mode": {
    "name": "ipython",
    "version": 3
   },
   "file_extension": ".py",
   "mimetype": "text/x-python",
   "name": "python",
   "nbconvert_exporter": "python",
   "pygments_lexer": "ipython3",
   "version": "3.10.8"
  }
 },
 "nbformat": 4,
 "nbformat_minor": 5
}
